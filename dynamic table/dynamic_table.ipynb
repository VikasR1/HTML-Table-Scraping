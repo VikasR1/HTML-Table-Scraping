{
 "cells": [
  {
   "cell_type": "markdown",
   "metadata": {},
   "source": [
    "# Scrape webpaged for dynamic tables!"
   ]
  },
  {
   "cell_type": "markdown",
   "metadata": {},
   "source": [
    "we will scrape a web page that has dynamic content loaded on to it (specifically javascript pages)"
   ]
  },
  {
   "cell_type": "code",
   "execution_count": 8,
   "metadata": {},
   "outputs": [],
   "source": [
    "! pip install pandas --upgrade --quiet"
   ]
  },
  {
   "cell_type": "code",
   "execution_count": 9,
   "metadata": {},
   "outputs": [],
   "source": [
    "import pandas as pd"
   ]
  },
  {
   "cell_type": "code",
   "execution_count": 10,
   "metadata": {},
   "outputs": [],
   "source": [
    "colors = 'https://en.wikipedia.org/wiki/List_of_colors:_A%E2%80%93F'\n",
    "cols_df = pd.read_html(colors)"
   ]
  },
  {
   "cell_type": "code",
   "execution_count": 11,
   "metadata": {},
   "outputs": [
    {
     "data": {
      "text/plain": [
       "7"
      ]
     },
     "execution_count": 11,
     "metadata": {},
     "output_type": "execute_result"
    }
   ],
   "source": [
    "len(cols_df)"
   ]
  },
  {
   "cell_type": "code",
   "execution_count": 15,
   "metadata": {},
   "outputs": [
    {
     "name": "stdout",
     "output_type": "stream",
     "text": [
      "Total number of tables on the page are 7\n"
     ]
    }
   ],
   "source": [
    "print(\"Total number of tables on the page are {}\".format(len(cols_df)))"
   ]
  },
  {
   "cell_type": "code",
   "execution_count": 13,
   "metadata": {},
   "outputs": [
    {
     "data": {
      "text/html": [
       "<div>\n",
       "<style scoped>\n",
       "    .dataframe tbody tr th:only-of-type {\n",
       "        vertical-align: middle;\n",
       "    }\n",
       "\n",
       "    .dataframe tbody tr th {\n",
       "        vertical-align: top;\n",
       "    }\n",
       "\n",
       "    .dataframe thead th {\n",
       "        text-align: right;\n",
       "    }\n",
       "</style>\n",
       "<table border=\"1\" class=\"dataframe\">\n",
       "  <thead>\n",
       "    <tr style=\"text-align: right;\">\n",
       "      <th></th>\n",
       "      <th>Name</th>\n",
       "      <th>Hex  (RGB)</th>\n",
       "      <th>Red  (RGB)</th>\n",
       "      <th>Green  (RGB)</th>\n",
       "      <th>Blue  (RGB)</th>\n",
       "      <th>Hue  (HSL/HSV)</th>\n",
       "      <th>Satur.  (HSL)</th>\n",
       "      <th>Light  (HSL)</th>\n",
       "      <th>Satur.  (HSV)</th>\n",
       "      <th>Value  (HSV)</th>\n",
       "      <th>Source</th>\n",
       "    </tr>\n",
       "  </thead>\n",
       "  <tbody>\n",
       "    <tr>\n",
       "      <th>0</th>\n",
       "      <td>Absolute Zero</td>\n",
       "      <td>#0048BA</td>\n",
       "      <td>0%</td>\n",
       "      <td>28%</td>\n",
       "      <td>73%</td>\n",
       "      <td>217°</td>\n",
       "      <td>100%</td>\n",
       "      <td>37%</td>\n",
       "      <td>100%</td>\n",
       "      <td>73%</td>\n",
       "      <td>Crayola</td>\n",
       "    </tr>\n",
       "    <tr>\n",
       "      <th>1</th>\n",
       "      <td>Acid green</td>\n",
       "      <td>#B0BF1A</td>\n",
       "      <td>69%</td>\n",
       "      <td>75%</td>\n",
       "      <td>10%</td>\n",
       "      <td>65°</td>\n",
       "      <td>76%</td>\n",
       "      <td>43%</td>\n",
       "      <td>76%</td>\n",
       "      <td>43%</td>\n",
       "      <td>Art Paints YG07S</td>\n",
       "    </tr>\n",
       "    <tr>\n",
       "      <th>2</th>\n",
       "      <td>Aero</td>\n",
       "      <td>#7CB9E8</td>\n",
       "      <td>49%</td>\n",
       "      <td>73%</td>\n",
       "      <td>91%</td>\n",
       "      <td>206°</td>\n",
       "      <td>70%</td>\n",
       "      <td>70%</td>\n",
       "      <td>47%</td>\n",
       "      <td>91%</td>\n",
       "      <td>Maerz and Paul</td>\n",
       "    </tr>\n",
       "    <tr>\n",
       "      <th>3</th>\n",
       "      <td>African violet</td>\n",
       "      <td>#B284BE</td>\n",
       "      <td>70%</td>\n",
       "      <td>52%</td>\n",
       "      <td>75%</td>\n",
       "      <td>288°</td>\n",
       "      <td>31%</td>\n",
       "      <td>63%</td>\n",
       "      <td>31%</td>\n",
       "      <td>75%</td>\n",
       "      <td>Pantone</td>\n",
       "    </tr>\n",
       "    <tr>\n",
       "      <th>4</th>\n",
       "      <td>Air superiority blue</td>\n",
       "      <td>#72A0C1</td>\n",
       "      <td>45%</td>\n",
       "      <td>63%</td>\n",
       "      <td>76%</td>\n",
       "      <td>205°</td>\n",
       "      <td>39%</td>\n",
       "      <td>60%</td>\n",
       "      <td>41%</td>\n",
       "      <td>76%</td>\n",
       "      <td>Federal Standard 595</td>\n",
       "    </tr>\n",
       "    <tr>\n",
       "      <th>...</th>\n",
       "      <td>...</td>\n",
       "      <td>...</td>\n",
       "      <td>...</td>\n",
       "      <td>...</td>\n",
       "      <td>...</td>\n",
       "      <td>...</td>\n",
       "      <td>...</td>\n",
       "      <td>...</td>\n",
       "      <td>...</td>\n",
       "      <td>...</td>\n",
       "      <td>...</td>\n",
       "    </tr>\n",
       "    <tr>\n",
       "      <th>258</th>\n",
       "      <td>Frostbite</td>\n",
       "      <td>#E936A7</td>\n",
       "      <td>91%</td>\n",
       "      <td>21%</td>\n",
       "      <td>65%</td>\n",
       "      <td>322°</td>\n",
       "      <td>80%</td>\n",
       "      <td>56%</td>\n",
       "      <td>77%</td>\n",
       "      <td>91%</td>\n",
       "      <td>Crayola</td>\n",
       "    </tr>\n",
       "    <tr>\n",
       "      <th>259</th>\n",
       "      <td>Fuchsia</td>\n",
       "      <td>#FF00FF</td>\n",
       "      <td>100%</td>\n",
       "      <td>0%</td>\n",
       "      <td>100%</td>\n",
       "      <td>300°</td>\n",
       "      <td>100%</td>\n",
       "      <td>50%</td>\n",
       "      <td>100%</td>\n",
       "      <td>100%</td>\n",
       "      <td>X11/Web</td>\n",
       "    </tr>\n",
       "    <tr>\n",
       "      <th>260</th>\n",
       "      <td>Fuchsia (Crayola)</td>\n",
       "      <td>#C154C1</td>\n",
       "      <td>76%</td>\n",
       "      <td>33%</td>\n",
       "      <td>76%</td>\n",
       "      <td>300°</td>\n",
       "      <td>47%</td>\n",
       "      <td>54%</td>\n",
       "      <td>56%</td>\n",
       "      <td>76%</td>\n",
       "      <td>Crayola</td>\n",
       "    </tr>\n",
       "    <tr>\n",
       "      <th>261</th>\n",
       "      <td>Fulvous</td>\n",
       "      <td>#E48400</td>\n",
       "      <td>89%</td>\n",
       "      <td>52%</td>\n",
       "      <td>0%</td>\n",
       "      <td>35°</td>\n",
       "      <td>100%</td>\n",
       "      <td>45%</td>\n",
       "      <td>100%</td>\n",
       "      <td>89%</td>\n",
       "      <td>99colors.net</td>\n",
       "    </tr>\n",
       "    <tr>\n",
       "      <th>262</th>\n",
       "      <td>Fuzzy Wuzzy</td>\n",
       "      <td>#87421F</td>\n",
       "      <td>53%</td>\n",
       "      <td>26%</td>\n",
       "      <td>12%</td>\n",
       "      <td>20°</td>\n",
       "      <td>63%</td>\n",
       "      <td>33%</td>\n",
       "      <td>77%</td>\n",
       "      <td>53%</td>\n",
       "      <td>Crayola</td>\n",
       "    </tr>\n",
       "  </tbody>\n",
       "</table>\n",
       "<p>263 rows × 11 columns</p>\n",
       "</div>"
      ],
      "text/plain": [
       "                     Name Hex  (RGB) Red  (RGB) Green  (RGB) Blue  (RGB)  \\\n",
       "0           Absolute Zero    #0048BA         0%          28%         73%   \n",
       "1              Acid green    #B0BF1A        69%          75%         10%   \n",
       "2                    Aero    #7CB9E8        49%          73%         91%   \n",
       "3          African violet    #B284BE        70%          52%         75%   \n",
       "4    Air superiority blue    #72A0C1        45%          63%         76%   \n",
       "..                    ...        ...        ...          ...         ...   \n",
       "258             Frostbite    #E936A7        91%          21%         65%   \n",
       "259               Fuchsia    #FF00FF       100%           0%        100%   \n",
       "260     Fuchsia (Crayola)    #C154C1        76%          33%         76%   \n",
       "261               Fulvous    #E48400        89%          52%          0%   \n",
       "262           Fuzzy Wuzzy    #87421F        53%          26%         12%   \n",
       "\n",
       "    Hue  (HSL/HSV) Satur.  (HSL) Light  (HSL) Satur.  (HSV) Value  (HSV)  \\\n",
       "0             217°          100%          37%          100%          73%   \n",
       "1              65°           76%          43%           76%          43%   \n",
       "2             206°           70%          70%           47%          91%   \n",
       "3             288°           31%          63%           31%          75%   \n",
       "4             205°           39%          60%           41%          76%   \n",
       "..             ...           ...          ...           ...          ...   \n",
       "258           322°           80%          56%           77%          91%   \n",
       "259           300°          100%          50%          100%         100%   \n",
       "260           300°           47%          54%           56%          76%   \n",
       "261            35°          100%          45%          100%          89%   \n",
       "262            20°           63%          33%           77%          53%   \n",
       "\n",
       "                   Source  \n",
       "0                 Crayola  \n",
       "1        Art Paints YG07S  \n",
       "2          Maerz and Paul  \n",
       "3                 Pantone  \n",
       "4    Federal Standard 595  \n",
       "..                    ...  \n",
       "258               Crayola  \n",
       "259               X11/Web  \n",
       "260               Crayola  \n",
       "261          99colors.net  \n",
       "262               Crayola  \n",
       "\n",
       "[263 rows x 11 columns]"
      ]
     },
     "execution_count": 13,
     "metadata": {},
     "output_type": "execute_result"
    }
   ],
   "source": [
    "cols_df[0]"
   ]
  }
 ],
 "metadata": {
  "kernelspec": {
   "display_name": "Python 3.10.7 ('virtual': venv)",
   "language": "python",
   "name": "python3"
  },
  "language_info": {
   "codemirror_mode": {
    "name": "ipython",
    "version": 3
   },
   "file_extension": ".py",
   "mimetype": "text/x-python",
   "name": "python",
   "nbconvert_exporter": "python",
   "pygments_lexer": "ipython3",
   "version": "3.10.7"
  },
  "orig_nbformat": 4,
  "vscode": {
   "interpreter": {
    "hash": "0de68c3d7bc070fc3c4dc9e30c784e58bb37f8661703612cbb505febae2e634e"
   }
  }
 },
 "nbformat": 4,
 "nbformat_minor": 2
}
