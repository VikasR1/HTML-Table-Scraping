{
 "cells": [
  {
   "cell_type": "markdown",
   "metadata": {},
   "source": [
    "# fetch-table-data-from-website\n",
    "\n",
    "Use the \"Run\" button to execute the code."
   ]
  },
  {
   "cell_type": "code",
   "execution_count": 1,
   "metadata": {},
   "outputs": [],
   "source": [
    "! pip install requests --upgrade --quiet\n",
    "! pip install bs4 --upgrade --quiet\n",
    "! pip install pandas --upgrade --quiet"
   ]
  },
  {
   "cell_type": "code",
   "execution_count": 2,
   "metadata": {},
   "outputs": [],
   "source": [
    "import requests\n",
    "import urllib.request\n",
    "from bs4 import BeautifulSoup\n",
    "from random import randint\n",
    "import time\n",
    "from time import sleep  \n",
    "import pandas as pd"
   ]
  },
  {
   "cell_type": "markdown",
   "metadata": {},
   "source": [
    "## Save a web page"
   ]
  },
  {
   "cell_type": "code",
   "execution_count": 3,
   "metadata": {},
   "outputs": [],
   "source": [
    "x = randint(2,10)\n",
    "t0 = time.time()"
   ]
  },
  {
   "cell_type": "code",
   "execution_count": 4,
   "metadata": {},
   "outputs": [],
   "source": [
    "\n",
    "def get_webpage():\n",
    "    url = input(\"Enter the URL \")\n",
    "    headers = {\n",
    "        'User-Agent': 'Mozilla/5.0 (Windows NT 10.0; Win64; x64) AppleWebKit/537.36 (KHTML, like Gecko) Chrome/106.0.0.0 Safari/537.36'\n",
    "    }\n",
    "    sleep(x)\n",
    "    response = requests.get(url, headers=headers)\n",
    "    print(\"response.status_code\")\n",
    "    if response.status_code !=200:\n",
    "        raise Exception(\"Failed to load page {}\".format(response))\n",
    "\n",
    "    print(\"paged loaded, now saving the webpage in local \")\n",
    "    with open('page.html', 'wb+') as file:\n",
    "        file.write(response.content)\n",
    "    print(\"web page saved successfully.\")\n",
    "\n",
    "    print(\"Total time (s) taken in this process \", time.time()-t0)\n",
    "    return \n"
   ]
  },
  {
   "cell_type": "code",
   "execution_count": 5,
   "metadata": {},
   "outputs": [],
   "source": [
    "def read_saved_page(args):\n",
    "    print(\"Reading the page saved page....\")\n",
    "    with open('page.html', 'rb') as file:\n",
    "        doc = BeautifulSoup(file.read(), 'html.parser')\n",
    "    print(\"finished with reading and saved that in doc\")\n",
    "    return doc\n",
    "\n"
   ]
  },
  {
   "cell_type": "code",
   "execution_count": 7,
   "metadata": {},
   "outputs": [],
   "source": [
    "# print(read_saved_page(get_webpage()))"
   ]
  },
  {
   "cell_type": "code",
   "execution_count": 8,
   "metadata": {},
   "outputs": [],
   "source": [
    "with open('page.html', 'rb') as file:\n",
    "    doc = BeautifulSoup(file.read(), 'lxml')"
   ]
  },
  {
   "cell_type": "markdown",
   "metadata": {},
   "source": [
    "# Finding table data from web page\n",
    "\n",
    "- to select table data, first we identify the div in which that table exists\n",
    "- use `.select` to locate that `div` and put `tr` also to find table rows\n",
    "- doc.select('div.lister tr') : here `.lister` is class of the `div` of `table`"
   ]
  },
  {
   "cell_type": "markdown",
   "metadata": {},
   "source": [
    "https://www.yarnplaza.com/yarn/budgetyarn/budgetyarn-chunky-chenille?qty=1"
   ]
  },
  {
   "cell_type": "code",
   "execution_count": 9,
   "metadata": {},
   "outputs": [],
   "source": [
    "table_row = doc.select('div#pdetailTableSpecs tr')\n"
   ]
  },
  {
   "cell_type": "code",
   "execution_count": 10,
   "metadata": {},
   "outputs": [
    {
     "data": {
      "text/plain": [
       "18"
      ]
     },
     "execution_count": 10,
     "metadata": {},
     "output_type": "execute_result"
    }
   ],
   "source": [
    "len(table_row)"
   ]
  },
  {
   "cell_type": "code",
   "execution_count": 11,
   "metadata": {},
   "outputs": [
    {
     "data": {
      "text/plain": [
       "<tr><td>Weight</td><td>40 gram</td></tr>"
      ]
     },
     "execution_count": 11,
     "metadata": {},
     "output_type": "execute_result"
    }
   ],
   "source": [
    "table_row[0]"
   ]
  },
  {
   "cell_type": "code",
   "execution_count": 12,
   "metadata": {},
   "outputs": [],
   "source": [
    "table_col = doc.select('div#pdetailTableSpecs tr td')"
   ]
  },
  {
   "cell_type": "code",
   "execution_count": 13,
   "metadata": {},
   "outputs": [
    {
     "data": {
      "text/plain": [
       "36"
      ]
     },
     "execution_count": 13,
     "metadata": {},
     "output_type": "execute_result"
    }
   ],
   "source": [
    "len(table_col)"
   ]
  },
  {
   "cell_type": "code",
   "execution_count": 14,
   "metadata": {},
   "outputs": [],
   "source": [
    "data = {}"
   ]
  },
  {
   "cell_type": "code",
   "execution_count": 15,
   "metadata": {},
   "outputs": [],
   "source": [
    "for items in doc.select('div#pdetailTableSpecs tr'):\n",
    "    data[items.select('td')[0].text] = items.select('td')[1].text"
   ]
  },
  {
   "cell_type": "markdown",
   "metadata": {},
   "source": [
    "# let's see the table data in our created dictionary 'data'"
   ]
  },
  {
   "cell_type": "code",
   "execution_count": 20,
   "metadata": {},
   "outputs": [
    {
     "data": {
      "text/plain": [
       "{'Weight': '40 gram',\n",
       " 'Length': '72 meter',\n",
       " 'Composition': '100% Polyester',\n",
       " 'Needle size': '5 mm',\n",
       " 'Yarn Weight': 'Super Bulky',\n",
       " 'Tension square 10x10cm (S)': '10 stitches',\n",
       " 'Tension square 10x10cm (R)': '14 rows',\n",
       " 'Washing': 'Machine washable 30 ºC',\n",
       " 'Bleaching': 'No',\n",
       " 'Tumble dryer': 'Do not tumble dry',\n",
       " 'Dry flat': 'Yes',\n",
       " 'Ironing': 'Do not iron',\n",
       " 'Dry cleaning': 'Yes',\n",
       " 'Brand': 'Budgetyarn',\n",
       " 'Category': 'Budgetyarn',\n",
       " 'EAN Code': '8720143462368',\n",
       " 'Product code': 'bwbychc_001',\n",
       " 'Unit': 'Per piece'}"
      ]
     },
     "execution_count": 20,
     "metadata": {},
     "output_type": "execute_result"
    }
   ],
   "source": [
    "data"
   ]
  },
  {
   "cell_type": "code",
   "execution_count": 21,
   "metadata": {},
   "outputs": [],
   "source": [
    "!pip install jovian --upgrade --quiet"
   ]
  },
  {
   "cell_type": "code",
   "execution_count": 22,
   "metadata": {},
   "outputs": [],
   "source": [
    "import jovian"
   ]
  },
  {
   "cell_type": "code",
   "execution_count": null,
   "metadata": {},
   "outputs": [
    {
     "data": {
      "application/javascript": [
       "window.require && require([\"base/js/namespace\"],function(Jupyter){Jupyter.notebook.save_checkpoint()})"
      ],
      "text/plain": [
       "<IPython.core.display.Javascript object>"
      ]
     },
     "metadata": {},
     "output_type": "display_data"
    }
   ],
   "source": [
    "# Execute this to save new versions of the notebook\n",
    "jovian.commit(project=\"fetch-table-data-from-website\")"
   ]
  },
  {
   "cell_type": "code",
   "execution_count": null,
   "metadata": {},
   "outputs": [],
   "source": []
  }
 ],
 "metadata": {
  "language_info": {
   "codemirror_mode": {
    "name": "ipython",
    "version": 3
   },
   "file_extension": ".py",
   "mimetype": "text/x-python",
   "name": "python",
   "nbconvert_exporter": "python",
   "pygments_lexer": "ipython3",
   "version": "3.9.6"
  }
 },
 "nbformat": 4,
 "nbformat_minor": 2
}